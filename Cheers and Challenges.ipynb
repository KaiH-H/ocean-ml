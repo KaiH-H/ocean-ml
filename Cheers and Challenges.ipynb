{
 "cells": [
  {
   "cell_type": "markdown",
   "metadata": {},
   "source": [
    "# Welcome back!\n",
    "\n",
    "![image](https://image.shutterstock.com/image-photo/two-red-coffee-mugs-smiling-260nw-1128835331.jpg)\n",
    "\n",
    "Today we are going to write a script to assign cheers and challenges dates to interns: \n",
    "\n",
    "Our goal is to assign a name to each Thursday date between now and the end of the year. Something like this: \n",
    "\n",
    "![image](https://raw.githubusercontent.com/madesai22/ocean-ml/master/images/final_product.jpeg) \n",
    "\n",
    "To do this, we are going to use the datetime module. The datetime module is used to deal with real dates and times in python. First, we need to import the **date** object from the datetime module:"
   ]
  },
  {
   "cell_type": "code",
   "execution_count": 1,
   "metadata": {},
   "outputs": [],
   "source": [
    "from datetime import date"
   ]
  },
  {
   "cell_type": "markdown",
   "metadata": {},
   "source": [
    "With this, we can create variables that are date objects:"
   ]
  },
  {
   "cell_type": "code",
   "execution_count": 5,
   "metadata": {},
   "outputs": [
    {
     "name": "stdout",
     "output_type": "stream",
     "text": [
      "2019-10-21\n"
     ]
    }
   ],
   "source": [
    "meeras_birthday = date(1996,5,22)\n",
    "today = date.today()\n",
    "\n",
    "print(today)\n",
    "# add your birthday here:\n"
   ]
  },
  {
   "cell_type": "markdown",
   "metadata": {},
   "source": [
    "We're also going to import the **timedelta** object from the datetime module:"
   ]
  },
  {
   "cell_type": "code",
   "execution_count": 3,
   "metadata": {},
   "outputs": [],
   "source": [
    "from datetime import timedelta"
   ]
  },
  {
   "cell_type": "markdown",
   "metadata": {},
   "source": [
    "The timedelta object is for adding or subtracting times from one another. For example, when you subtract two dates, the result is a timedelta object:"
   ]
  },
  {
   "cell_type": "code",
   "execution_count": 11,
   "metadata": {},
   "outputs": [
    {
     "name": "stdout",
     "output_type": "stream",
     "text": [
      "<type 'datetime.timedelta'>\n"
     ]
    }
   ],
   "source": [
    "# timedelta Example 1: \n",
    "meeras_age = today - meeras_birthday \n",
    "print(type(meeras_age))\n",
    "# write code to calcualte and print your age and the type of this variable\n",
    "# Here :\n"
   ]
  },
  {
   "cell_type": "markdown",
   "metadata": {},
   "source": [
    "You can use timedeltas to calculate time in the future or the past:"
   ]
  },
  {
   "cell_type": "code",
   "execution_count": 12,
   "metadata": {},
   "outputs": [
    {
     "name": "stdout",
     "output_type": "stream",
     "text": [
      "2019-10-28\n"
     ]
    }
   ],
   "source": [
    "# timedelta Example 2:\n",
    "one_week = timedelta(days = 7)\n",
    "next_week = today + one_week\n",
    "print(next_week)"
   ]
  },
  {
   "cell_type": "code",
   "execution_count": 14,
   "metadata": {},
   "outputs": [],
   "source": [
    "# Write code to calculate the date in two weeks: \n",
    "\n",
    "\n",
    "# write code to calculate the date two weeks ago:\n",
    "\n"
   ]
  },
  {
   "cell_type": "markdown",
   "metadata": {},
   "source": [
    "One more thing before we can start writing our script.\n",
    "Normally when we want to loop through a list, we get to the end and stop:"
   ]
  },
  {
   "cell_type": "code",
   "execution_count": 20,
   "metadata": {},
   "outputs": [],
   "source": [
    "example_list = ['this','is','an','example','list','of','strings']\n",
    "\n",
    "# write code to iterate through this list and print each item:\n",
    "\n"
   ]
  },
  {
   "cell_type": "markdown",
   "metadata": {},
   "source": [
    "For our purposes, we need to continue to loop through a list. For this we use **cycle** from the itertools module. Let's see what this code does:"
   ]
  },
  {
   "cell_type": "code",
   "execution_count": null,
   "metadata": {},
   "outputs": [],
   "source": [
    "from itertools import cycle \n",
    "example_cycle = cycle(example_list)\n",
    "\n",
    "# write code to print the items in example_cycle:\n",
    "\n"
   ]
  },
  {
   "cell_type": "markdown",
   "metadata": {},
   "source": [
    "Uhoh! We can stop an ongoing loop with a **break** statement. We can worry about this when we write our script. Let's start thinking about the variables we need to make our script. One thing we might need is a list of dates we don't need to assign someone to (dates we don't meet or when interns have a workshop). We can store these in a set, which is kind of like a list with some special properites. You denote a set using these brackets { } as shown:"
   ]
  },
  {
   "cell_type": "code",
   "execution_count": 22,
   "metadata": {},
   "outputs": [],
   "source": [
    "no_session = { date(2019,11,5), date(2019,11,7), date(2019,11,28), date(2019,12,26),\n",
    "              date(2020,1,2), date(2020,1,9), date(2020,1,30), date(2020,2,27),\n",
    "              date(2020,2,20), date(2020,4,2), date(2020,4,9), date(2020,4,16),\n",
    "              date(2020,6,4)\n",
    "             }"
   ]
  },
  {
   "cell_type": "markdown",
   "metadata": {},
   "source": [
    "Another thing we might need is the start and end dates. We can make the start date today.  The end date is June 6th, 2020.  "
   ]
  },
  {
   "cell_type": "code",
   "execution_count": 23,
   "metadata": {},
   "outputs": [],
   "source": [
    "# Write code to assign start and end dates to variable here"
   ]
  },
  {
   "cell_type": "markdown",
   "metadata": {},
   "source": [
    "What else do we need? How can we use these elements to make a script that does what we want?"
   ]
  },
  {
   "cell_type": "code",
   "execution_count": 27,
   "metadata": {},
   "outputs": [],
   "source": [
    "# Use this space to map out your code. What variables do you need? \n",
    "\n",
    "\n",
    "\n",
    "\n",
    "\n",
    "\n",
    "\n",
    "\n",
    "\n",
    "\n"
   ]
  },
  {
   "cell_type": "markdown",
   "metadata": {},
   "source": [
    "Bonus if we have time: How can you write this to a file instead of printing to the screen? "
   ]
  },
  {
   "cell_type": "code",
   "execution_count": 26,
   "metadata": {},
   "outputs": [],
   "source": [
    "# write that here if you have time :-)\n",
    "\n"
   ]
  }
 ],
 "metadata": {
  "kernelspec": {
   "display_name": "Python 2",
   "language": "python",
   "name": "python2"
  },
  "language_info": {
   "codemirror_mode": {
    "name": "ipython",
    "version": 2
   },
   "file_extension": ".py",
   "mimetype": "text/x-python",
   "name": "python",
   "nbconvert_exporter": "python",
   "pygments_lexer": "ipython2",
   "version": "2.7.16"
  }
 },
 "nbformat": 4,
 "nbformat_minor": 2
}
